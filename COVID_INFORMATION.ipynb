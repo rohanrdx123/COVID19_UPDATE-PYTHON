{
 "cells": [
  {
   "cell_type": "markdown",
   "metadata": {},
   "source": [
    "## COVID 19 Reports"
   ]
  },
  {
   "cell_type": "code",
   "execution_count": 1,
   "metadata": {},
   "outputs": [],
   "source": [
    "from covid import Covid\n",
    "import pandas as pd\n",
   ]
  },
  {
   "cell_type": "code",
   "execution_count": 2,
   "metadata": {},
   "outputs": [],
   "source": [
    "covid = Covid()"
   ]
  },
  {
   "cell_type": "code",
   "execution_count": 3,
   "metadata": {},
   "outputs": [],
   "source": [
    "def covid_Worldwide():\n",
    "    print(\"Total Active Cases:- \" , covid.get_total_active_cases())\n",
    "    print(\"Total Confirmed Cases:- \" ,covid.get_total_confirmed_cases())\n",
    "    print(\"Total Recovered Cases:- \" ,covid.get_total_recovered())\n",
    "    print(\"Total Death:- \" ,covid.get_total_deaths())"
   ]
  },
  {
   "cell_type": "markdown",
   "metadata": {},
   "source": [
    "## COVID 19 Reports of All World"
   ]
  },
  {
   "cell_type": "code",
   "execution_count": 4,
   "metadata": {},
   "outputs": [
    {
     "name": "stdout",
     "output_type": "stream",
     "text": [
      "Total Active Cases:-  3450265\n",
      "Total Confirmed Cases:-  7432275\n",
      "Total Recovered Cases:-  3504346\n",
      "Total Death:-  418052\n"
     ]
    }
   ],
   "source": [
    "covid_Worldwide()"
   ]
  },
  {
   "cell_type": "code",
   "execution_count": 5,
   "metadata": {},
   "outputs": [],
   "source": [
    "def covid_india():\n",
    "    india=covid.get_status_by_country_name(\"india\")\n",
    "    data={key:india[key] for key in india.keys() and {'confirmed','active','deaths','recovered'}}\n",
    "    print(\"TOTAL CASES IN INDIA:- \",data)"
   ]
  },
  {
   "cell_type": "markdown",
   "metadata": {},
   "source": [
    "## COVID 19 Reports of INDIA"
   ]
  },
  {
   "cell_type": "code",
   "execution_count": 22,
   "metadata": {},
   "outputs": [
    {
     "name": "stdout",
     "output_type": "stream",
     "text": [
      "TOTAL CASES IN INDIA:-  {'active': 137446, 'confirmed': 286577, 'recovered': 141029, 'deaths': 8102}\n"
     ]
    }
   ],
   "source": [
    "covid_india()"
   ]
  },
  {
   "cell_type": "markdown",
   "metadata": {},
   "source": [
    "## COVID 19 All Countries"
   ]
  },
  {
   "cell_type": "code",
   "execution_count": 38,
   "metadata": {},
   "outputs": [
    {
     "data": {
      "text/plain": [
       "[{'id': '18', 'name': 'US'},\n",
       " {'id': '22', 'name': 'Brazil'},\n",
       " {'id': '14', 'name': 'Russia'},\n",
       " {'id': '17', 'name': 'United Kingdom'},\n",
       " {'id': '27', 'name': 'India'},\n",
       " {'id': '19', 'name': 'Spain'},\n",
       " {'id': '11', 'name': 'Italy'},\n",
       " {'id': '23', 'name': 'Peru'},\n",
       " {'id': '7', 'name': 'France'},\n",
       " {'id': '8', 'name': 'Germany'},\n",
       " {'id': '97', 'name': 'Iran'},\n",
       " {'id': '177', 'name': 'Turkey'},\n",
       " {'id': '21', 'name': 'Chile'},\n",
       " {'id': '20', 'name': 'Mexico'},\n",
       " {'id': '28', 'name': 'Pakistan'},\n",
       " {'id': '154', 'name': 'Saudi Arabia'},\n",
       " {'id': '3', 'name': 'Canada'},\n",
       " {'id': '4', 'name': 'China'},\n",
       " {'id': '40', 'name': 'Bangladesh'},\n",
       " {'id': '146', 'name': 'Qatar'},\n",
       " {'id': '43', 'name': 'Belgium'},\n",
       " {'id': '163', 'name': 'South Africa'},\n",
       " {'id': '42', 'name': 'Belarus'},\n",
       " {'id': '12', 'name': 'Netherlands'},\n",
       " {'id': '15', 'name': 'Sweden'},\n",
       " {'id': '73', 'name': 'Ecuador'},\n",
       " {'id': '24', 'name': 'Colombia'},\n",
       " {'id': '179', 'name': 'United Arab Emirates'},\n",
       " {'id': '159', 'name': 'Singapore'},\n",
       " {'id': '74', 'name': 'Egypt'},\n",
       " {'id': '145', 'name': 'Portugal'},\n",
       " {'id': '96', 'name': 'Indonesia'},\n",
       " {'id': '106', 'name': 'Kuwait'},\n",
       " {'id': '16', 'name': 'Switzerland'},\n",
       " {'id': '26', 'name': 'Ukraine'},\n",
       " {'id': '144', 'name': 'Poland'},\n",
       " {'id': '35', 'name': 'Argentina'},\n",
       " {'id': '10', 'name': 'Ireland'},\n",
       " {'id': '143', 'name': 'Philippines'},\n",
       " {'id': '29', 'name': 'Afghanistan'},\n",
       " {'id': '72', 'name': 'Dominican Republic'},\n",
       " {'id': '147', 'name': 'Romania'},\n",
       " {'id': '139', 'name': 'Oman'},\n",
       " {'id': '99', 'name': 'Israel'},\n",
       " {'id': '140', 'name': 'Panama'},\n",
       " {'id': '25', 'name': 'Japan'},\n",
       " {'id': '2', 'name': 'Austria'},\n",
       " {'id': '98', 'name': 'Iraq'},\n",
       " {'id': '39', 'name': 'Bahrain'},\n",
       " {'id': '47', 'name': 'Bolivia'},\n",
       " {'id': '36', 'name': 'Armenia'},\n",
       " {'id': '137', 'name': 'Nigeria'},\n",
       " {'id': '102', 'name': 'Kazakhstan'},\n",
       " {'id': '5', 'name': 'Denmark'},\n",
       " {'id': '156', 'name': 'Serbia'},\n",
       " {'id': '104', 'name': 'Korea, South'},\n",
       " {'id': '126', 'name': 'Moldova'},\n",
       " {'id': '31', 'name': 'Algeria'},\n",
       " {'id': '85', 'name': 'Ghana'},\n",
       " {'id': '68', 'name': 'Czechia'},\n",
       " {'id': '37', 'name': 'Azerbaijan'},\n",
       " {'id': '57', 'name': 'Cameroon'},\n",
       " {'id': '13', 'name': 'Norway'},\n",
       " {'id': '130', 'name': 'Morocco'},\n",
       " {'id': '120', 'name': 'Malaysia'},\n",
       " {'id': '88', 'name': 'Guatemala'},\n",
       " {'id': '94', 'name': 'Honduras'},\n",
       " {'id': '1', 'name': 'Australia'},\n",
       " {'id': '6', 'name': 'Finland'},\n",
       " {'id': '166', 'name': 'Sudan'},\n",
       " {'id': '170', 'name': 'Tajikistan'},\n",
       " {'id': '155', 'name': 'Senegal'},\n",
       " {'id': '181', 'name': 'Uzbekistan'},\n",
       " {'id': '133', 'name': 'Nepal'},\n",
       " {'id': '62', 'name': 'Congo (Kinshasa)'},\n",
       " {'id': '70', 'name': 'Djibouti'},\n",
       " {'id': '89', 'name': 'Guinea'},\n",
       " {'id': '64', 'name': \"Cote d'Ivoire\"},\n",
       " {'id': '116', 'name': 'Luxembourg'},\n",
       " {'id': '95', 'name': 'Hungary'},\n",
       " {'id': '92', 'name': 'Haiti'},\n",
       " {'id': '138', 'name': 'North Macedonia'},\n",
       " {'id': '82', 'name': 'Gabon'},\n",
       " {'id': '75', 'name': 'El Salvador'},\n",
       " {'id': '103', 'name': 'Kenya'},\n",
       " {'id': '172', 'name': 'Thailand'},\n",
       " {'id': '86', 'name': 'Greece'},\n",
       " {'id': '51', 'name': 'Bulgaria'},\n",
       " {'id': '48', 'name': 'Bosnia and Herzegovina'},\n",
       " {'id': '182', 'name': 'Venezuela'},\n",
       " {'id': '80', 'name': 'Ethiopia'},\n",
       " {'id': '162', 'name': 'Somalia'},\n",
       " {'id': '65', 'name': 'Croatia'},\n",
       " {'id': '66', 'name': 'Cuba'},\n",
       " {'id': '107', 'name': 'Kyrgyzstan'},\n",
       " {'id': '121', 'name': 'Maldives'},\n",
       " {'id': '78', 'name': 'Estonia'},\n",
       " {'id': '58', 'name': 'Central African Republic'},\n",
       " {'id': '165', 'name': 'Sri Lanka'},\n",
       " {'id': '9', 'name': 'Iceland'},\n",
       " {'id': '115', 'name': 'Lithuania'},\n",
       " {'id': '122', 'name': 'Mali'},\n",
       " {'id': '164', 'name': 'South Sudan'},\n",
       " {'id': '160', 'name': 'Slovakia'},\n",
       " {'id': '134', 'name': 'New Zealand'},\n",
       " {'id': '161', 'name': 'Slovenia'},\n",
       " {'id': '135', 'name': 'Nicaragua'},\n",
       " {'id': '63', 'name': 'Costa Rica'},\n",
       " {'id': '110', 'name': 'Lebanon'},\n",
       " {'id': '90', 'name': 'Guinea-Bissau'},\n",
       " {'id': '30', 'name': 'Albania'},\n",
       " {'id': '76', 'name': 'Equatorial Guinea'},\n",
       " {'id': '105', 'name': 'Kosovo'},\n",
       " {'id': '124', 'name': 'Mauritania'},\n",
       " {'id': '118', 'name': 'Madagascar'},\n",
       " {'id': '142', 'name': 'Paraguay'},\n",
       " {'id': '187', 'name': 'Zambia'},\n",
       " {'id': '109', 'name': 'Latvia'},\n",
       " {'id': '176', 'name': 'Tunisia'},\n",
       " {'id': '158', 'name': 'Sierra Leone'},\n",
       " {'id': '67', 'name': 'Cyprus'},\n",
       " {'id': '136', 'name': 'Niger'},\n",
       " {'id': '52', 'name': 'Burkina Faso'},\n",
       " {'id': '101', 'name': 'Jordan'},\n",
       " {'id': '32', 'name': 'Andorra'},\n",
       " {'id': '180', 'name': 'Uruguay'},\n",
       " {'id': '59', 'name': 'Chad'},\n",
       " {'id': '84', 'name': 'Georgia'},\n",
       " {'id': '61', 'name': 'Congo (Brazzaville)'},\n",
       " {'id': '69', 'name': 'Diamond Princess'},\n",
       " {'id': '152', 'name': 'San Marino'},\n",
       " {'id': '178', 'name': 'Uganda'},\n",
       " {'id': '55', 'name': 'Cabo Verde'},\n",
       " {'id': '123', 'name': 'Malta'},\n",
       " {'id': '153', 'name': 'Sao Tome and Principe'},\n",
       " {'id': '100', 'name': 'Jamaica'},\n",
       " {'id': '186', 'name': 'Yemen'},\n",
       " {'id': '174', 'name': 'Togo'},\n",
       " {'id': '171', 'name': 'Tanzania'},\n",
       " {'id': '131', 'name': 'Mozambique'},\n",
       " {'id': '184', 'name': 'West Bank and Gaza'},\n",
       " {'id': '148', 'name': 'Rwanda'},\n",
       " {'id': '119', 'name': 'Malawi'},\n",
       " {'id': '79', 'name': 'Eswatini'},\n",
       " {'id': '169', 'name': 'Taiwan*'},\n",
       " {'id': '112', 'name': 'Liberia'},\n",
       " {'id': '113', 'name': 'Libya'},\n",
       " {'id': '125', 'name': 'Mauritius'},\n",
       " {'id': '183', 'name': 'Vietnam'},\n",
       " {'id': '129', 'name': 'Montenegro'},\n",
       " {'id': '188', 'name': 'Zimbabwe'},\n",
       " {'id': '45', 'name': 'Benin'},\n",
       " {'id': '53', 'name': 'Burma'},\n",
       " {'id': '128', 'name': 'Mongolia'},\n",
       " {'id': '60', 'name': 'Comoros'},\n",
       " {'id': '91', 'name': 'Guyana'},\n",
       " {'id': '168', 'name': 'Syria'},\n",
       " {'id': '167', 'name': 'Suriname'},\n",
       " {'id': '50', 'name': 'Brunei'},\n",
       " {'id': '56', 'name': 'Cambodia'},\n",
       " {'id': '175', 'name': 'Trinidad and Tobago'},\n",
       " {'id': '33', 'name': 'Angola'},\n",
       " {'id': '38', 'name': 'Bahamas'},\n",
       " {'id': '127', 'name': 'Monaco'},\n",
       " {'id': '41', 'name': 'Barbados'},\n",
       " {'id': '54', 'name': 'Burundi'},\n",
       " {'id': '114', 'name': 'Liechtenstein'},\n",
       " {'id': '46', 'name': 'Bhutan'},\n",
       " {'id': '49', 'name': 'Botswana'},\n",
       " {'id': '77', 'name': 'Eritrea'},\n",
       " {'id': '132', 'name': 'Namibia'},\n",
       " {'id': '83', 'name': 'Gambia'},\n",
       " {'id': '151', 'name': 'Saint Vincent and the Grenadines'},\n",
       " {'id': '34', 'name': 'Antigua and Barbuda'},\n",
       " {'id': '173', 'name': 'Timor-Leste'},\n",
       " {'id': '87', 'name': 'Grenada'},\n",
       " {'id': '44', 'name': 'Belize'},\n",
       " {'id': '108', 'name': 'Laos'},\n",
       " {'id': '150', 'name': 'Saint Lucia'},\n",
       " {'id': '71', 'name': 'Dominica'},\n",
       " {'id': '81', 'name': 'Fiji'},\n",
       " {'id': '149', 'name': 'Saint Kitts and Nevis'},\n",
       " {'id': '93', 'name': 'Holy See'},\n",
       " {'id': '157', 'name': 'Seychelles'},\n",
       " {'id': '117', 'name': 'MS Zaandam'},\n",
       " {'id': '185', 'name': 'Western Sahara'},\n",
       " {'id': '141', 'name': 'Papua New Guinea'},\n",
       " {'id': '111', 'name': 'Lesotho'}]"
      ]
     },
     "execution_count": 38,
     "metadata": {},
     "output_type": "execute_result"
    }
   ],
   "source": [
    "data=covid.list_countries()\n",
    "data"
   ]
  }
 ],
 "metadata": {
  "kernelspec": {
   "display_name": "Python 3",
   "language": "python",
   "name": "python3"
  },
  "language_info": {
   "codemirror_mode": {
    "name": "ipython",
    "version": 3
   },
   "file_extension": ".py",
   "mimetype": "text/x-python",
   "name": "python",
   "nbconvert_exporter": "python",
   "pygments_lexer": "ipython3",
   "version": "3.7.3"
  }
 },
 "nbformat": 4,
 "nbformat_minor": 2
}
